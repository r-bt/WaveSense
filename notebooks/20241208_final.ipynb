{
 "cells": [
  {
   "cell_type": "code",
   "execution_count": 1,
   "id": "309bbc9d",
   "metadata": {},
   "outputs": [
    {
     "data": {
      "application/javascript": [
       "\n",
       "try {\n",
       "require(['notebook/js/codecell'], function(codecell) {\n",
       "  codecell.CodeCell.options_default.highlight_modes[\n",
       "      'magic_text/x-csrc'] = {'reg':[/^%%microblaze/]};\n",
       "  Jupyter.notebook.events.one('kernel_ready.Kernel', function(){\n",
       "      Jupyter.notebook.get_cells().map(function(cell){\n",
       "          if (cell.cell_type == 'code'){ cell.auto_highlight(); } }) ;\n",
       "  });\n",
       "});\n",
       "} catch (e) {};\n"
      ]
     },
     "metadata": {},
     "output_type": "display_data"
    },
    {
     "data": {
      "application/javascript": [
       "\n",
       "try {\n",
       "require(['notebook/js/codecell'], function(codecell) {\n",
       "  codecell.CodeCell.options_default.highlight_modes[\n",
       "      'magic_text/x-csrc'] = {'reg':[/^%%pybind11/]};\n",
       "  Jupyter.notebook.events.one('kernel_ready.Kernel', function(){\n",
       "      Jupyter.notebook.get_cells().map(function(cell){\n",
       "          if (cell.cell_type == 'code'){ cell.auto_highlight(); } }) ;\n",
       "  });\n",
       "});\n",
       "} catch (e) {};\n"
      ]
     },
     "metadata": {},
     "output_type": "display_data"
    }
   ],
   "source": [
    "from pynq import PL\n",
    "import xrfdc\n",
    "from pynq import Overlay\n",
    "\n",
    "PL.reset()\n",
    "ol = Overlay('./20241208_final.bit')\n",
    "dma = ol.axi_dma_0\n",
    "rf = ol.usp_rf_data_converter_0"
   ]
  },
  {
   "cell_type": "code",
   "execution_count": 2,
   "id": "0a39f770",
   "metadata": {},
   "outputs": [],
   "source": [
    "import numpy as np\n",
    "from pynq import allocate\n",
    "import plotly.graph_objects as go\n",
    "import plotly.express as px"
   ]
  },
  {
   "cell_type": "code",
   "execution_count": 11,
   "id": "2ab0559e",
   "metadata": {},
   "outputs": [
    {
     "data": {
      "application/vnd.jupyter.widget-view+json": {
       "model_id": "6d542a25afd14db38c06ee6c4b5e5cc2",
       "version_major": 2,
       "version_minor": 0
      },
      "text/plain": [
       "FigureWidget({\n",
       "    'data': [{'coloraxis': 'coloraxis',\n",
       "              'hovertemplate': 'x: %{x}<br>y: %{y}<br>c…"
      ]
     },
     "metadata": {},
     "output_type": "display_data"
    }
   ],
   "source": [
    "n = 52 * 8\n",
    "curr_data = np.zeros((129, 52), dtype=np.complex_)\n",
    "curr_data[0] = np.ones(52) * 5\n",
    "out_buffer = allocate(n, dtype=np.int32)\n",
    "\n",
    "# Create the live plot\n",
    "fig = go.FigureWidget()\n",
    "fig_imshow = px.imshow(curr_data.real, origin='lower')\n",
    "fig.add_trace(go.Heatmap(fig_imshow.data[0], name='csi'))\n",
    "fig.update_layout(width=750, height=750)\n",
    "fig"
   ]
  },
  {
   "cell_type": "code",
   "execution_count": 12,
   "id": "e332178b",
   "metadata": {},
   "outputs": [],
   "source": [
    "adc_tile = rf.adc_tiles[2]\n",
    "adc_block = adc_tile.blocks[0]\n",
    "\n",
    "# Sampling frequency (MHz)\n",
    "fs = 122.88\n",
    "# Mixer frequency (MHz)\n",
    "fm = 2412  # WiFi channel 1\n",
    "adc_block.Dither = 1\n",
    "adc_block.MixerSettings['Freq']= -fm # Negative because we're in Nyquist zone 1\n",
    "adc_block.UpdateEvent(xrfdc.EVENT_MIXER)"
   ]
  },
  {
   "cell_type": "code",
   "execution_count": null,
   "id": "e5bc06f0",
   "metadata": {},
   "outputs": [],
   "source": [
    "while True:\n",
    "    # Receive the CSI\n",
    "    dma.recvchannel.transfer(out_buffer)\n",
    "    dma.recvchannel.wait()\n",
    "    real = []\n",
    "    imag = []\n",
    "    for i in range(n):\n",
    "        val = out_buffer[i] & 0xFFFF\n",
    "        if val >= 32768:\n",
    "            imag.append(np.int32(0xFFFF0000 | val))\n",
    "        else:\n",
    "            imag.append(val)\n",
    "        real.append((out_buffer[i]>>16))\n",
    "    csi = (np.array(real) + 1j*np.array(imag)).reshape((8, 52))\n",
    "    # Update the buffer\n",
    "    curr_data[9:] = curr_data[1:-8]\n",
    "    curr_data[1:9] = csi\n",
    "    # Update the plot\n",
    "    fig.update_traces(\n",
    "        selector={'name': 'csi'},\n",
    "        z=np.log(np.abs(curr_data) + 1)\n",
    "    )"
   ]
  },
  {
   "cell_type": "code",
   "execution_count": 52,
   "id": "078db652",
   "metadata": {},
   "outputs": [],
   "source": [
    "data = None\n",
    "\n",
    "while data is None or len(data) < 1024:\n",
    "    # Receive the CSI\n",
    "    dma.recvchannel.transfer(out_buffer)\n",
    "    dma.recvchannel.wait()\n",
    "    real = []\n",
    "    imag = []\n",
    "    for i in range(n):\n",
    "        val = out_buffer[i] & 0xFFFF\n",
    "        if val >= 32768:\n",
    "            imag.append(np.int32(0xFFFF0000 | val))\n",
    "        else:\n",
    "            imag.append(val)\n",
    "        real.append((out_buffer[i]>>16))\n",
    "    csi = (np.array(real) + 1j*np.array(imag)).reshape((8, 52))\n",
    "    # Update the buffer\n",
    "    if data is None:\n",
    "        data = csi\n",
    "    else:\n",
    "        data = np.append(data, csi, axis=0)"
   ]
  },
  {
   "cell_type": "code",
   "execution_count": 53,
   "id": "18af8aeb",
   "metadata": {},
   "outputs": [
    {
     "data": {
      "text/plain": [
       "(1024, 52)"
      ]
     },
     "execution_count": 53,
     "metadata": {},
     "output_type": "execute_result"
    }
   ],
   "source": [
    "data.shape"
   ]
  },
  {
   "cell_type": "code",
   "execution_count": 55,
   "id": "90d508de",
   "metadata": {},
   "outputs": [],
   "source": [
    "import pandas as pd"
   ]
  },
  {
   "cell_type": "code",
   "execution_count": 60,
   "id": "99972b34",
   "metadata": {},
   "outputs": [],
   "source": [
    "df = pd.DataFrame(np.abs(data))"
   ]
  },
  {
   "cell_type": "code",
   "execution_count": 62,
   "id": "f636d1a4",
   "metadata": {},
   "outputs": [
    {
     "ename": "ValueError",
     "evalue": "Must have univariate endogenous data.",
     "output_type": "error",
     "traceback": [
      "\u001b[0;31m---------------------------------------------------------------------------\u001b[0m",
      "\u001b[0;31mValueError\u001b[0m                                Traceback (most recent call last)",
      "Input \u001b[0;32mIn [62]\u001b[0m, in \u001b[0;36m<cell line: 1>\u001b[0;34m()\u001b[0m\n\u001b[0;32m----> 1\u001b[0m model \u001b[38;5;241m=\u001b[39m \u001b[43msm\u001b[49m\u001b[38;5;241;43m.\u001b[39;49m\u001b[43mtsa\u001b[49m\u001b[38;5;241;43m.\u001b[39;49m\u001b[43mMarkovRegression\u001b[49m\u001b[43m(\u001b[49m\u001b[43mdf\u001b[49m\u001b[43m,\u001b[49m\u001b[43m \u001b[49m\u001b[43mk_regimes\u001b[49m\u001b[38;5;241;43m=\u001b[39;49m\u001b[38;5;241;43m2\u001b[39;49m\u001b[43m)\u001b[49m\n",
      "File \u001b[0;32m/usr/local/share/pynq-venv/lib/python3.10/site-packages/statsmodels/tsa/regime_switching/markov_regression.py:121\u001b[0m, in \u001b[0;36mMarkovRegression.__init__\u001b[0;34m(self, endog, k_regimes, trend, exog, order, exog_tvtp, switching_trend, switching_exog, switching_variance, dates, freq, missing)\u001b[0m\n\u001b[1;32m    118\u001b[0m     \u001b[38;5;28mself\u001b[39m\u001b[38;5;241m.\u001b[39m_k_exog \u001b[38;5;241m+\u001b[39m\u001b[38;5;241m=\u001b[39m \u001b[38;5;28mself\u001b[39m\u001b[38;5;241m.\u001b[39mk_trend\n\u001b[1;32m    120\u001b[0m \u001b[38;5;66;03m# Initialize the base model\u001b[39;00m\n\u001b[0;32m--> 121\u001b[0m \u001b[38;5;28;43msuper\u001b[39;49m\u001b[43m(\u001b[49m\u001b[43m)\u001b[49m\u001b[38;5;241;43m.\u001b[39;49m\u001b[38;5;21;43m__init__\u001b[39;49m\u001b[43m(\u001b[49m\n\u001b[1;32m    122\u001b[0m \u001b[43m    \u001b[49m\u001b[43mendog\u001b[49m\u001b[43m,\u001b[49m\u001b[43m \u001b[49m\u001b[43mk_regimes\u001b[49m\u001b[43m,\u001b[49m\u001b[43m \u001b[49m\u001b[43morder\u001b[49m\u001b[38;5;241;43m=\u001b[39;49m\u001b[43morder\u001b[49m\u001b[43m,\u001b[49m\u001b[43m \u001b[49m\u001b[43mexog_tvtp\u001b[49m\u001b[38;5;241;43m=\u001b[39;49m\u001b[43mexog_tvtp\u001b[49m\u001b[43m,\u001b[49m\u001b[43m \u001b[49m\u001b[43mexog\u001b[49m\u001b[38;5;241;43m=\u001b[39;49m\u001b[43mexog\u001b[49m\u001b[43m,\u001b[49m\n\u001b[1;32m    123\u001b[0m \u001b[43m    \u001b[49m\u001b[43mdates\u001b[49m\u001b[38;5;241;43m=\u001b[39;49m\u001b[43mdates\u001b[49m\u001b[43m,\u001b[49m\u001b[43m \u001b[49m\u001b[43mfreq\u001b[49m\u001b[38;5;241;43m=\u001b[39;49m\u001b[43mfreq\u001b[49m\u001b[43m,\u001b[49m\u001b[43m \u001b[49m\u001b[43mmissing\u001b[49m\u001b[38;5;241;43m=\u001b[39;49m\u001b[43mmissing\u001b[49m\u001b[43m)\u001b[49m\n\u001b[1;32m    125\u001b[0m \u001b[38;5;66;03m# Switching options\u001b[39;00m\n\u001b[1;32m    126\u001b[0m \u001b[38;5;28;01mif\u001b[39;00m \u001b[38;5;28mself\u001b[39m\u001b[38;5;241m.\u001b[39mswitching_trend \u001b[38;5;129;01mis\u001b[39;00m \u001b[38;5;28;01mTrue\u001b[39;00m \u001b[38;5;129;01mor\u001b[39;00m \u001b[38;5;28mself\u001b[39m\u001b[38;5;241m.\u001b[39mswitching_trend \u001b[38;5;129;01mis\u001b[39;00m \u001b[38;5;28;01mFalse\u001b[39;00m:\n",
      "File \u001b[0;32m/usr/local/share/pynq-venv/lib/python3.10/site-packages/statsmodels/tsa/regime_switching/markov_switching.py:520\u001b[0m, in \u001b[0;36mMarkovSwitching.__init__\u001b[0;34m(self, endog, k_regimes, order, exog_tvtp, exog, dates, freq, missing)\u001b[0m\n\u001b[1;32m    518\u001b[0m \u001b[38;5;66;03m# Sanity checks\u001b[39;00m\n\u001b[1;32m    519\u001b[0m \u001b[38;5;28;01mif\u001b[39;00m \u001b[38;5;28mself\u001b[39m\u001b[38;5;241m.\u001b[39mendog\u001b[38;5;241m.\u001b[39mndim \u001b[38;5;241m>\u001b[39m \u001b[38;5;241m1\u001b[39m \u001b[38;5;129;01mand\u001b[39;00m \u001b[38;5;28mself\u001b[39m\u001b[38;5;241m.\u001b[39mendog\u001b[38;5;241m.\u001b[39mshape[\u001b[38;5;241m1\u001b[39m] \u001b[38;5;241m>\u001b[39m \u001b[38;5;241m1\u001b[39m:\n\u001b[0;32m--> 520\u001b[0m     \u001b[38;5;28;01mraise\u001b[39;00m \u001b[38;5;167;01mValueError\u001b[39;00m(\u001b[38;5;124m'\u001b[39m\u001b[38;5;124mMust have univariate endogenous data.\u001b[39m\u001b[38;5;124m'\u001b[39m)\n\u001b[1;32m    521\u001b[0m \u001b[38;5;28;01mif\u001b[39;00m \u001b[38;5;28mself\u001b[39m\u001b[38;5;241m.\u001b[39mk_regimes \u001b[38;5;241m<\u001b[39m \u001b[38;5;241m2\u001b[39m:\n\u001b[1;32m    522\u001b[0m     \u001b[38;5;28;01mraise\u001b[39;00m \u001b[38;5;167;01mValueError\u001b[39;00m(\u001b[38;5;124m'\u001b[39m\u001b[38;5;124mMarkov switching models must have at least two\u001b[39m\u001b[38;5;124m'\u001b[39m\n\u001b[1;32m    523\u001b[0m                      \u001b[38;5;124m'\u001b[39m\u001b[38;5;124m regimes.\u001b[39m\u001b[38;5;124m'\u001b[39m)\n",
      "\u001b[0;31mValueError\u001b[0m: Must have univariate endogenous data."
     ]
    }
   ],
   "source": [
    "model = sm.tsa.MarkovRegression(df, k_regimes=2)"
   ]
  },
  {
   "cell_type": "code",
   "execution_count": null,
   "id": "6bd9705e",
   "metadata": {},
   "outputs": [],
   "source": []
  }
 ],
 "metadata": {
  "kernelspec": {
   "display_name": "Python 3 (ipykernel)",
   "language": "python",
   "name": "python3"
  },
  "language_info": {
   "codemirror_mode": {
    "name": "ipython",
    "version": 3
   },
   "file_extension": ".py",
   "mimetype": "text/x-python",
   "name": "python",
   "nbconvert_exporter": "python",
   "pygments_lexer": "ipython3",
   "version": "3.10.7"
  }
 },
 "nbformat": 4,
 "nbformat_minor": 5
}
